{
 "cells": [
  {
   "cell_type": "markdown",
   "id": "4521a721",
   "metadata": {},
   "source": [
    "# Huggingface "
   ]
  },
  {
   "cell_type": "markdown",
   "id": "c40281f1",
   "metadata": {},
   "source": [
    "## .. Embeddings"
   ]
  },
  {
   "cell_type": "code",
   "execution_count": 1,
   "id": "5bacbd9f",
   "metadata": {},
   "outputs": [],
   "source": [
    "import os\n",
    "from dotenv import find_dotenv, load_dotenv\n",
    "_ = load_dotenv(find_dotenv())  # read local .env file\n",
    "# os.environ[\"OPENAI_API_KEY\"]\n",
    "\n",
    "from langchain.embeddings import OpenAIEmbeddings\n",
    "embedding_provider = OpenAIEmbeddings()\n",
    "\n",
    "# from langchain.embeddings import HuggingFaceEmbeddings\n",
    "# embedding_provider = HuggingFaceEmbeddings(model_name='T-Systems-onsite/cross-en-de-roberta-sentence-transformer')"
   ]
  },
  {
   "cell_type": "markdown",
   "id": "0db9c40e",
   "metadata": {},
   "source": [
    "## ... LLM"
   ]
  },
  {
   "cell_type": "code",
   "execution_count": 3,
   "id": "8411c444",
   "metadata": {},
   "outputs": [],
   "source": [
    "from langchain.chat_models import ChatOpenAI\n",
    "llm = ChatOpenAI(model_name=\"gpt-3.5-turbo\", temperature=0)\n",
    "\n",
    "\n",
    "# from langchain.llms import HuggingFacePipeline\n",
    "# llm_hf = HuggingFacePipeline.from_model_id(\n",
    "#     model_id=\"gpt2\",\n",
    "#     task=\"text-generation\",\n",
    "#     pipeline_kwargs={\"max_new_tokens\": 128},\n",
    "# )"
   ]
  },
  {
   "cell_type": "markdown",
   "id": "0a5e7b39",
   "metadata": {},
   "source": [
    "# Load"
   ]
  },
  {
   "cell_type": "code",
   "execution_count": 4,
   "id": "c2b92eb6",
   "metadata": {},
   "outputs": [],
   "source": [
    "from langchain.document_loaders import WebBaseLoader\n",
    "\n",
    "loader = WebBaseLoader(\"https://en.wikipedia.org/wiki/Angela_Merkel\")\n",
    "data = loader.load()"
   ]
  },
  {
   "cell_type": "markdown",
   "id": "37ca40da",
   "metadata": {},
   "source": [
    "# Split"
   ]
  },
  {
   "cell_type": "code",
   "execution_count": 5,
   "id": "689586b1",
   "metadata": {},
   "outputs": [],
   "source": [
    "from langchain.text_splitter import RecursiveCharacterTextSplitter\n",
    "\n",
    "text_splitter = RecursiveCharacterTextSplitter(chunk_size = 500, chunk_overlap=0)\n",
    "all_splits = text_splitter.split_documents(data)"
   ]
  },
  {
   "cell_type": "code",
   "execution_count": 6,
   "id": "9eae89c8-8e23-4435-9f06-608ed0b139cb",
   "metadata": {},
   "outputs": [
    {
     "name": "stdout",
     "output_type": "stream",
     "text": [
      "page_content=\"Merkel is a fervent football fan and has been known to listen to games while in the Bundestag and to attend games of the national team in her official capacity, including Germany's 1–0 victory against Argentina in the 2014 World Cup Final.[328][329][330]\\nMerkel has stated that her favorite movie is The Legend of Paul and Paula, an East German movie released in 1973.[331]\" metadata={'source': 'https://en.wikipedia.org/wiki/Angela_Merkel', 'title': 'Angela Merkel - Wikipedia', 'language': 'en'}\n"
     ]
    }
   ],
   "source": [
    "print(all_splits[196])"
   ]
  },
  {
   "cell_type": "markdown",
   "id": "6623b543",
   "metadata": {},
   "source": [
    "# Store"
   ]
  },
  {
   "cell_type": "code",
   "execution_count": 7,
   "id": "9c6288f8",
   "metadata": {},
   "outputs": [],
   "source": [
    "from langchain.vectorstores import Chroma\n",
    "\n",
    "vectorstore = Chroma.from_documents(documents=all_splits, embedding=embedding_provider)"
   ]
  },
  {
   "cell_type": "code",
   "execution_count": null,
   "id": "95711e21",
   "metadata": {},
   "outputs": [],
   "source": []
  },
  {
   "cell_type": "markdown",
   "id": "0f3b5685",
   "metadata": {},
   "source": [
    "# Retrieve"
   ]
  },
  {
   "cell_type": "code",
   "execution_count": 8,
   "id": "10455f6c",
   "metadata": {},
   "outputs": [
    {
     "data": {
      "text/plain": [
       "[Document(page_content=\"In 1977, at the age of 23, Merkel, then Angela Kasner, married physics student Ulrich Merkel (born 1953)[319] and took his surname. The couple divorced in 1982.[320] Her second and current husband is quantum chemist and professor Joachim Sauer, who has largely avoided media attention during and after Merkel's political career.[321][322] They first met in 1981[323] and married in 1998.[324] Merkel has no children, but Sauer has two adult sons from a previous marriage.[325]\", metadata={'source': 'https://en.wikipedia.org/wiki/Angela_Merkel', 'title': 'Angela Merkel - Wikipedia', 'language': 'en'}),\n",
       " Document(page_content='Personal life\\nMain article: Family of Angela Merkel\\nU.S. president Barack Obama, Michelle Obama, Merkel, and her husband Joachim Sauer, 2009', metadata={'source': 'https://en.wikipedia.org/wiki/Angela_Merkel', 'title': 'Angela Merkel - Wikipedia', 'language': 'en'}),\n",
       " Document(page_content='^ \"Angela Merkel\\'s journey from \\'Mädchen\\' to \\'Mutti\\'\". Politico. 6 September 2017. Archived from the original on 8 June 2023. Retrieved 8 June 2023.\\n\\n^ Klatell, James M (9 August 2006). \"Germany\\'s First Fella, Angela Merkel Is Germany\\'s Chancellor; But Her Husband Stays Out of the Spotlight\". CBS News. Archived from the original on 10 August 2006. Retrieved 2 March 2010.', metadata={'source': 'https://en.wikipedia.org/wiki/Angela_Merkel', 'title': 'Angela Merkel - Wikipedia', 'language': 'en'}),\n",
       " Document(page_content='^ Huggler, Justin (27 May 2016). \"Rare sighting of Angela Merkel\\'s publicity-shy husband at G7 summit\". The Telegraph. ISSN\\xa00307-1235. Retrieved 21 July 2023.\\n\\n^ Taylor, Adam. \"We Pretty Much Only Know These 8 Things About Angela Merkel\\'s Husband\". Business Insider. Retrieved 21 July 2023.\\n\\n^ Uhlmann, Stefan (14 August 2009). \"Joachim Sauer, das Phantom an Merkels Seite\". Die Zeit (in German). Archived from the original on 16 August 2009. Retrieved 11 June 2010.', metadata={'source': 'https://en.wikipedia.org/wiki/Angela_Merkel', 'title': 'Angela Merkel - Wikipedia', 'language': 'en'})]"
      ]
     },
     "execution_count": 8,
     "metadata": {},
     "output_type": "execute_result"
    }
   ],
   "source": [
    "question = \"Is Angela Merkel married, if so to whom?\"\n",
    "docs = vectorstore.similarity_search(question)\n",
    "len(docs)\n",
    "docs"
   ]
  },
  {
   "cell_type": "code",
   "execution_count": 9,
   "id": "a2513653-0943-45a6-944e-db76d9138695",
   "metadata": {},
   "outputs": [
    {
     "data": {
      "text/plain": [
       "[(Document(page_content=\"In 1977, at the age of 23, Merkel, then Angela Kasner, married physics student Ulrich Merkel (born 1953)[319] and took his surname. The couple divorced in 1982.[320] Her second and current husband is quantum chemist and professor Joachim Sauer, who has largely avoided media attention during and after Merkel's political career.[321][322] They first met in 1981[323] and married in 1998.[324] Merkel has no children, but Sauer has two adult sons from a previous marriage.[325]\", metadata={'source': 'https://en.wikipedia.org/wiki/Angela_Merkel', 'title': 'Angela Merkel - Wikipedia', 'language': 'en'}),\n",
       "  0.2417650818824768),\n",
       " (Document(page_content='Personal life\\nMain article: Family of Angela Merkel\\nU.S. president Barack Obama, Michelle Obama, Merkel, and her husband Joachim Sauer, 2009', metadata={'source': 'https://en.wikipedia.org/wiki/Angela_Merkel', 'title': 'Angela Merkel - Wikipedia', 'language': 'en'}),\n",
       "  0.2607648968696594),\n",
       " (Document(page_content='^ \"Angela Merkel\\'s journey from \\'Mädchen\\' to \\'Mutti\\'\". Politico. 6 September 2017. Archived from the original on 8 June 2023. Retrieved 8 June 2023.\\n\\n^ Klatell, James M (9 August 2006). \"Germany\\'s First Fella, Angela Merkel Is Germany\\'s Chancellor; But Her Husband Stays Out of the Spotlight\". CBS News. Archived from the original on 10 August 2006. Retrieved 2 March 2010.', metadata={'source': 'https://en.wikipedia.org/wiki/Angela_Merkel', 'title': 'Angela Merkel - Wikipedia', 'language': 'en'}),\n",
       "  0.27947574853897095),\n",
       " (Document(page_content='^ Huggler, Justin (27 May 2016). \"Rare sighting of Angela Merkel\\'s publicity-shy husband at G7 summit\". The Telegraph. ISSN\\xa00307-1235. Retrieved 21 July 2023.\\n\\n^ Taylor, Adam. \"We Pretty Much Only Know These 8 Things About Angela Merkel\\'s Husband\". Business Insider. Retrieved 21 July 2023.\\n\\n^ Uhlmann, Stefan (14 August 2009). \"Joachim Sauer, das Phantom an Merkels Seite\". Die Zeit (in German). Archived from the original on 16 August 2009. Retrieved 11 June 2010.', metadata={'source': 'https://en.wikipedia.org/wiki/Angela_Merkel', 'title': 'Angela Merkel - Wikipedia', 'language': 'en'}),\n",
       "  0.289811372756958),\n",
       " (Document(page_content='^ Krauel, Torsten (13 March 2013). \"Ahnenforschung: Kanzlerin Angela Merkel ist zu einem Viertel Polin\". Die Welt (in German). Archived from the original on 10 September 2018. Retrieved 18 November 2016.\\n\\n^ Boyes, Roger (25 July 2005). \"Angela Merkel: Forged in the Old Communist East, Germany\\'s Chancellor-in-Waiting Is Not like the Others\". New Statesman. Archived from the original on 28 April 2017. Retrieved 28 April 2017.', metadata={'source': 'https://en.wikipedia.org/wiki/Angela_Merkel', 'title': 'Angela Merkel - Wikipedia', 'language': 'en'}),\n",
       "  0.2979775071144104),\n",
       " (Document(page_content=\"Background and early life\\nMerkel's paternal grandparents when engaged: Margarethe and her betrothed, Ludwik Marian Kaźmierczak, in his Polish Blue Army uniformSee also: Family of Angela Merkel\", metadata={'source': 'https://en.wikipedia.org/wiki/Angela_Merkel', 'title': 'Angela Merkel - Wikipedia', 'language': 'en'}),\n",
       "  0.300927072763443),\n",
       " (Document(page_content='Angela Dorothea Merkel  (German: [aŋˈɡeːla doʁoˈteːa ˈmɛʁkl̩] (listen);[a] née\\xa0Kasner; born 17 July 1954) is a German former politician and scientist who served as chancellor of Germany from 2005 to 2021. A member of the Christian Democratic Union (CDU), she previously served as Leader of the Opposition from 2002 to 2005 and as Leader of the Christian Democratic Union from 2000 to 2018.[9] Merkel was the first female chancellor of Germany.[b] During her chancellorship, Merkel was frequently', metadata={'source': 'https://en.wikipedia.org/wiki/Angela_Merkel', 'title': 'Angela Merkel - Wikipedia', 'language': 'en'}),\n",
       "  0.30249375104904175),\n",
       " (Document(page_content='Personal detailsBornAngela Dorothea Kasner (1954-07-17) 17 July 1954 (age\\xa069)Hamburg, West GermanyPolitical partyChristian Democratic Union (since 1990)Other politicalaffiliations\\nChristian Democratic Union (East Germany, 1990)\\nDemocratic Beginning (1989–1990)\\nSpouses\\n\\nUlrich Merkel\\n\\u200b \\u200b(m.\\xa01977; div.\\xa01982)\\u200b', metadata={'source': 'https://en.wikipedia.org/wiki/Angela_Merkel', 'title': 'Angela Merkel - Wikipedia', 'language': 'en'}),\n",
       "  0.3031150698661804),\n",
       " (Document(page_content='Merkel was born Angela Dorothea Kasner in 1954, in Hamburg, West Germany, the daughter of Horst Kasner (1926–2011; né Kaźmierczak),[19][20] a Lutheran pastor and a native of Berlin, and his wife Herlind (1928–2019; née Jentzsch), born in Danzig (now Gdańsk, Poland), a teacher of English and Latin. She has two younger siblings, Marcus Kasner, a physicist, and Irene Kasner, an occupational therapist. In her childhood and youth, Merkel was known among her peers by the nickname \"Kasi\", derived from', metadata={'source': 'https://en.wikipedia.org/wiki/Angela_Merkel', 'title': 'Angela Merkel - Wikipedia', 'language': 'en'}),\n",
       "  0.30688583850860596),\n",
       " (Document(page_content='Clark, Claudia. Dear Barack: The Extraordinary Partnership of Barack Obama and Angela Merkel (2021)\\nCrossley-Frolick, Katy A. \"Domestic Constraints, German Foreign Policy and Post-Conflict Peacebuilding.\" German Politics and Society 31.3 (2013): 43–75.\\nCzuczka, Tony and Alan Crawford. Angela Merkel: A Chancellorship Forged in Crisis (2013) excerpt\\nFerree, Myra Marx. \"Angela Merkel: What Does It Mean to Run as a Woman?\" German Politics & Society 2006.  24#78: 93–107. online', metadata={'source': 'https://en.wikipedia.org/wiki/Angela_Merkel', 'title': 'Angela Merkel - Wikipedia', 'language': 'en'}),\n",
       "  0.3142237961292267)]"
      ]
     },
     "execution_count": 9,
     "metadata": {},
     "output_type": "execute_result"
    }
   ],
   "source": [
    "query = \"Is Angela Merkel married, if so to whom?\"\n",
    "embedding_vector = embedding_provider.embed_query(query)\n",
    "docs = vectorstore.similarity_search_by_vector_with_relevance_scores(embedding_vector, k=10)\n",
    "docs"
   ]
  },
  {
   "cell_type": "markdown",
   "id": "815eea03",
   "metadata": {},
   "source": [
    "## Multiquery retriever"
   ]
  },
  {
   "cell_type": "code",
   "execution_count": 11,
   "id": "2f9effe7",
   "metadata": {
    "scrolled": true
   },
   "outputs": [
    {
     "name": "stderr",
     "output_type": "stream",
     "text": [
      "INFO:langchain.retrievers.multi_query:Generated queries: ['1. Who is Angela Merkel married to, if she is married?', \"2. Can you provide information about Angela Merkel's marital status and her spouse?\", '3. If Angela Merkel is married, could you please tell me the name of her spouse?']\n"
     ]
    },
    {
     "data": {
      "text/plain": [
       "6"
      ]
     },
     "execution_count": 11,
     "metadata": {},
     "output_type": "execute_result"
    }
   ],
   "source": [
    "import logging\n",
    "\n",
    "from langchain.retrievers.multi_query import MultiQueryRetriever\n",
    "\n",
    "logging.basicConfig()\n",
    "logging.getLogger('langchain.retrievers.multi_query').setLevel(logging.INFO)\n",
    "\n",
    "retriever_from_llm = MultiQueryRetriever.from_llm(retriever=vectorstore.as_retriever(),\n",
    "                                                  llm=llm)\n",
    "unique_docs = retriever_from_llm.get_relevant_documents(query=question)\n",
    "len(unique_docs)"
   ]
  },
  {
   "cell_type": "markdown",
   "id": "c37f5fe4",
   "metadata": {},
   "source": [
    "# Generate"
   ]
  },
  {
   "cell_type": "code",
   "execution_count": 12,
   "id": "2757c1fe",
   "metadata": {},
   "outputs": [],
   "source": [
    "from langchain.chains import RetrievalQA\n"
   ]
  },
  {
   "cell_type": "code",
   "execution_count": 13,
   "id": "63b4112e",
   "metadata": {},
   "outputs": [
    {
     "data": {
      "text/plain": [
       "{'query': 'Is Angela Merkel married, if so to whom?',\n",
       " 'result': 'Yes, Angela Merkel is married. Her current husband is Joachim Sauer, a quantum chemist and professor. They got married in 1998.'}"
      ]
     },
     "execution_count": 13,
     "metadata": {},
     "output_type": "execute_result"
    }
   ],
   "source": [
    "qa_chain = RetrievalQA.from_chain_type(llm=llm,retriever=vectorstore.as_retriever())\n",
    "# qa_chain = RetrievalQA.from_chain_type(llm=llm_hf,retriever=vectorstore.as_retriever())\n",
    "out = qa_chain({\"query\": question})\n",
    "out"
   ]
  },
  {
   "cell_type": "code",
   "execution_count": 16,
   "id": "b47e0881",
   "metadata": {},
   "outputs": [
    {
     "data": {
      "text/plain": [
       "{'query': 'Is Angela Merkel married, if so to whom?',\n",
       " 'result': 'Yes, Angela Merkel is married. Her current husband is Joachim Sauer, a quantum chemist and professor. They got married in 1998.'}"
      ]
     },
     "execution_count": 16,
     "metadata": {},
     "output_type": "execute_result"
    }
   ],
   "source": [
    "qa_chain = RetrievalQA.from_chain_type(llm,retriever=vectorstore.as_retriever())\n",
    "out = qa_chain({\"query\": question})\n",
    "out"
   ]
  },
  {
   "cell_type": "code",
   "execution_count": null,
   "id": "4bff4166",
   "metadata": {},
   "outputs": [],
   "source": []
  },
  {
   "cell_type": "code",
   "execution_count": null,
   "id": "4ca828c3",
   "metadata": {},
   "outputs": [],
   "source": []
  }
 ],
 "metadata": {
  "kernelspec": {
   "display_name": "Python 3 (ipykernel)",
   "language": "python",
   "name": "python3"
  },
  "language_info": {
   "codemirror_mode": {
    "name": "ipython",
    "version": 3
   },
   "file_extension": ".py",
   "mimetype": "text/x-python",
   "name": "python",
   "nbconvert_exporter": "python",
   "pygments_lexer": "ipython3",
   "version": "3.10.9"
  }
 },
 "nbformat": 4,
 "nbformat_minor": 5
}
